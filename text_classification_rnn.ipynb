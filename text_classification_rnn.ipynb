{
 "cells": [
  {
   "cell_type": "markdown",
   "metadata": {
    "id": "hX4n9TsbGw-f"
   },
   "source": [
    "##### Copyright 2018 The TensorFlow Authors."
   ]
  },
  {
   "cell_type": "code",
   "execution_count": 1,
   "metadata": {
    "cellView": "form",
    "execution": {
     "iopub.execute_input": "2021-04-02T02:09:23.628261Z",
     "iopub.status.busy": "2021-04-02T02:09:23.627570Z",
     "iopub.status.idle": "2021-04-02T02:09:23.630030Z",
     "shell.execute_reply": "2021-04-02T02:09:23.629535Z"
    },
    "id": "0nbI5DtDGw-i",
    "pycharm": {
     "is_executing": true
    }
   },
   "outputs": [],
   "source": [
    "#@title Licensed under the Apache License, Version 2.0 (the \"License\");\n",
    "# you may not use this file except in compliance with the License.\n",
    "# You may obtain a copy of the License at\n",
    "#\n",
    "# https://www.apache.org/licenses/LICENSE-2.0\n",
    "#\n",
    "# Unless required by applicable law or agreed to in writing, software\n",
    "# distributed under the License is distributed on an \"AS IS\" BASIS,\n",
    "# WITHOUT WARRANTIES OR CONDITIONS OF ANY KIND, either express or implied.\n",
    "# See the License for the specific language governing permissions and\n",
    "# limitations under the License."
   ]
  },
  {
   "cell_type": "markdown",
   "metadata": {
    "id": "9TnJztDZGw-n"
   },
   "source": [
    "# Text classification with an RNN"
   ]
  },
  {
   "cell_type": "markdown",
   "metadata": {
    "id": "AfN3bMR5Gw-o"
   },
   "source": [
    "<table class=\"tfo-notebook-buttons\" align=\"left\">\n",
    "  <td>\n",
    "    <a target=\"_blank\" href=\"https://www.tensorflow.org/tutorials/text/text_classification_rnn\"><img src=\"https://www.tensorflow.org/images/tf_logo_32px.png\" />View on TensorFlow.org</a>\n",
    "  </td>\n",
    "  <td>\n",
    "    <a target=\"_blank\" href=\"https://colab.research.google.com/github/tensorflow/docs/blob/master/site/en/tutorials/text/text_classification_rnn.ipynb\"><img src=\"https://www.tensorflow.org/images/colab_logo_32px.png\" />Run in Google Colab</a>\n",
    "  </td>\n",
    "  <td>\n",
    "    <a target=\"_blank\" href=\"https://github.com/tensorflow/docs/blob/master/site/en/tutorials/text/text_classification_rnn.ipynb\"><img src=\"https://www.tensorflow.org/images/GitHub-Mark-32px.png\" />View source on GitHub</a>\n",
    "  </td>\n",
    "  <td>\n",
    "    <a href=\"https://storage.googleapis.com/tensorflow_docs/docs/site/en/tutorials/text/text_classification_rnn.ipynb\"><img src=\"https://www.tensorflow.org/images/download_logo_32px.png\" />Download notebook</a>\n",
    "  </td>\n",
    "</table>"
   ]
  },
  {
   "cell_type": "markdown",
   "metadata": {
    "id": "lUWearf0Gw-p"
   },
   "source": [
    "This text classification tutorial trains a [recurrent neural network](https://developers.google.com/machine-learning/glossary/#recurrent_neural_network) on the [IMDB large movie review dataset](http://ai.stanford.edu/~amaas/data/sentiment/) for sentiment analysis."
   ]
  },
  {
   "cell_type": "markdown",
   "metadata": {
    "id": "_2VQo4bajwUU"
   },
   "source": [
    "## Setup"
   ]
  },
  {
   "cell_type": "code",
   "execution_count": 2,
   "metadata": {
    "execution": {
     "iopub.execute_input": "2021-04-02T02:09:23.639872Z",
     "iopub.status.busy": "2021-04-02T02:09:23.639086Z",
     "iopub.status.idle": "2021-04-02T02:09:31.002432Z",
     "shell.execute_reply": "2021-04-02T02:09:31.002907Z"
    },
    "id": "z682XYsrjkY9",
    "pycharm": {
     "is_executing": true
    }
   },
   "outputs": [
    {
     "name": "stdout",
     "output_type": "stream",
     "text": [
      "INFO:tensorflow:Enabling eager execution\n",
      "INFO:tensorflow:Enabling v2 tensorshape\n",
      "INFO:tensorflow:Enabling resource variables\n",
      "INFO:tensorflow:Enabling tensor equality\n",
      "INFO:tensorflow:Enabling control flow v2\n"
     ]
    }
   ],
   "source": [
    "import numpy as np\n",
    "\n",
    "import tensorflow_datasets as tfds\n",
    "import tensorflow as tf\n",
    "\n",
    "tfds.disable_progress_bar()"
   ]
  },
  {
   "cell_type": "markdown",
   "metadata": {
    "id": "1rXHa-w9JZhb"
   },
   "source": [
    "Import `matplotlib` and create a helper function to plot graphs:"
   ]
  },
  {
   "cell_type": "code",
   "execution_count": 3,
   "metadata": {
    "execution": {
     "iopub.execute_input": "2021-04-02T02:09:31.008708Z",
     "iopub.status.busy": "2021-04-02T02:09:31.007962Z",
     "iopub.status.idle": "2021-04-02T02:09:31.010407Z",
     "shell.execute_reply": "2021-04-02T02:09:31.009894Z"
    },
    "id": "Mp1Z7P9pYRSK",
    "pycharm": {
     "is_executing": true
    }
   },
   "outputs": [],
   "source": [
    "import matplotlib.pyplot as plt\n",
    "\n",
    "\n",
    "def plot_graphs(history, metric):\n",
    "  plt.plot(history.history[metric])\n",
    "  plt.plot(history.history['val_'+metric], '')\n",
    "  plt.xlabel(\"Epochs\")\n",
    "  plt.ylabel(metric)\n",
    "  plt.legend([metric, 'val_'+metric])"
   ]
  },
  {
   "cell_type": "markdown",
   "metadata": {
    "id": "pRmMubr0jrE2"
   },
   "source": [
    "## Setup input pipeline\n",
    "\n",
    "\n",
    "The IMDB large movie review dataset is a *binary classification* dataset—all the reviews have either a *positive* or *negative* sentiment.\n",
    "\n",
    "Download the dataset using [TFDS](https://www.tensorflow.org/datasets). See the [loading text tutorial](../load_data/text.ipynb) for details on how to load this sort of data manually.\n"
   ]
  },
  {
   "cell_type": "code",
   "execution_count": 4,
   "metadata": {
    "execution": {
     "iopub.execute_input": "2021-04-02T02:09:31.015539Z",
     "iopub.status.busy": "2021-04-02T02:09:31.014641Z",
     "iopub.status.idle": "2021-04-02T02:09:35.285259Z",
     "shell.execute_reply": "2021-04-02T02:09:35.285723Z"
    },
    "id": "SHRwRoP2nVHX",
    "pycharm": {
     "is_executing": true
    }
   },
   "outputs": [
    {
     "data": {
      "text/plain": [
       "(TensorSpec(shape=(), dtype=tf.string, name=None),\n",
       " TensorSpec(shape=(), dtype=tf.int64, name=None))"
      ]
     },
     "execution_count": 4,
     "metadata": {},
     "output_type": "execute_result"
    }
   ],
   "source": [
    "dataset, info = tfds.load('imdb_reviews', with_info=True,\n",
    "                          as_supervised=True)\n",
    "train_dataset, test_dataset = dataset['train'], dataset['test']\n",
    "\n",
    "train_dataset.element_spec"
   ]
  },
  {
   "cell_type": "markdown",
   "metadata": {
    "id": "nWA4c2ir7g6p"
   },
   "source": [
    "Initially this returns a dataset of (text, label pairs):"
   ]
  },
  {
   "cell_type": "code",
   "execution_count": 5,
   "metadata": {
    "execution": {
     "iopub.execute_input": "2021-04-02T02:09:35.291165Z",
     "iopub.status.busy": "2021-04-02T02:09:35.290456Z",
     "iopub.status.idle": "2021-04-02T02:09:36.962371Z",
     "shell.execute_reply": "2021-04-02T02:09:36.962809Z"
    },
    "id": "vd4_BGKyurao",
    "pycharm": {
     "is_executing": true
    }
   },
   "outputs": [
    {
     "name": "stdout",
     "output_type": "stream",
     "text": [
      "text:  b\"This was an absolutely terrible movie. Don't be lured in by Christopher Walken or Michael Ironside. Both are great actors, but this must simply be their worst role in history. Even their great acting could not redeem this movie's ridiculous storyline. This movie is an early nineties US propaganda piece. The most pathetic scenes were those when the Columbian rebels were making their cases for revolutions. Maria Conchita Alonso appeared phony, and her pseudo-love affair with Walken was nothing but a pathetic emotional plug in a movie that was devoid of any real meaning. I am disappointed that there are movies like this, ruining actor's like Christopher Walken's good name. I could barely sit through it.\"\n",
      "label:  0\n"
     ]
    }
   ],
   "source": [
    "for example, label in train_dataset.take(1):\n",
    "  print('text: ', example.numpy())\n",
    "  print('label: ', label.numpy())"
   ]
  },
  {
   "cell_type": "markdown",
   "metadata": {
    "id": "z2qVJzcEluH_"
   },
   "source": [
    "Next shuffle the data for training and create batches of these `(text, label)` pairs:"
   ]
  },
  {
   "cell_type": "code",
   "execution_count": 6,
   "metadata": {
    "execution": {
     "iopub.execute_input": "2021-04-02T02:09:36.967304Z",
     "iopub.status.busy": "2021-04-02T02:09:36.966595Z",
     "iopub.status.idle": "2021-04-02T02:09:36.968463Z",
     "shell.execute_reply": "2021-04-02T02:09:36.968968Z"
    },
    "id": "dDsCaZCDYZgm",
    "pycharm": {
     "is_executing": true
    }
   },
   "outputs": [],
   "source": [
    "BUFFER_SIZE = 10000\n",
    "BATCH_SIZE = 64"
   ]
  },
  {
   "cell_type": "code",
   "execution_count": 7,
   "metadata": {
    "execution": {
     "iopub.execute_input": "2021-04-02T02:09:36.973854Z",
     "iopub.status.busy": "2021-04-02T02:09:36.973142Z",
     "iopub.status.idle": "2021-04-02T02:09:36.976945Z",
     "shell.execute_reply": "2021-04-02T02:09:36.977366Z"
    },
    "id": "VznrltNOnUc5",
    "pycharm": {
     "is_executing": true
    }
   },
   "outputs": [],
   "source": [
    "train_dataset = train_dataset.shuffle(BUFFER_SIZE).batch(BATCH_SIZE).prefetch(tf.data.AUTOTUNE)\n",
    "test_dataset = test_dataset.batch(BATCH_SIZE).prefetch(tf.data.AUTOTUNE)"
   ]
  },
  {
   "cell_type": "code",
   "execution_count": 8,
   "metadata": {
    "execution": {
     "iopub.execute_input": "2021-04-02T02:09:36.983038Z",
     "iopub.status.busy": "2021-04-02T02:09:36.981456Z",
     "iopub.status.idle": "2021-04-02T02:09:37.625796Z",
     "shell.execute_reply": "2021-04-02T02:09:37.626229Z"
    },
    "id": "jqkvdcFv41wC",
    "pycharm": {
     "is_executing": true
    }
   },
   "outputs": [
    {
     "name": "stdout",
     "output_type": "stream",
     "text": [
      "texts:  [b'I thoroughly enjoyed this movie, but it is nothing new.<br /><br />Everyone here is grouping it with other war movies, this movie has been miscategorized! Its not a war movie any more than \"One flew over the cuckoos nest\" is a asylum movie or \"Cool Hand Luke\" is a prison movie. This is a movie about individuality, nonconformity, self-confidence and the costs of that personality type.<br /><br />The plot is the same as \"One flew over the Cuckoos nest\" and \"Cool Hand Luke\", its in GOOD company, and it holds its own. Its these movies it should be held up against and compared, not \"Apocalypse Now\" or \"Platoon\".<br /><br />Eric'\n",
      " b\"Darius Goes West is a film depicting American belief that everything is possible if you try hard enough. This wonderful fun filled and sometimes heartbreaking film shows a young man who never expected, but longed to see, what was outside the confines of his lovely city of Athens, GA. Darius wished to see the ocean. His longtime friends Logan, Ben and several other good friends decided to make Darius' wish come true. They started small - Ben & Logan's mom started an email campaign to bring awareness to Darius' condition: Duchenne Muscular Dystrophy and to raise funds for the fellas to take Darius to not only see the ocean but to see these great United States. To say the young college buddies succeeded in bringing hope and awareness to this dreaded disease would be an understatement. They realized Darius' dream and then some. They put their lives on hold while showing love, care and tons of fun to Darius while helping Darius see how he can in turn show those same traits to others suffering from DMD. Darius went on to volunteer for the Red Cross - sitting in his chair collecting money (along with his buddies) outside a local grocery store. His wonderful smile tells the world that dreams do come true - all you need is hope and a group of college friends to support and care for you. Give Darius and all the guys an Oscar - no one else deserves it more. Martha Sweeney.\"\n",
      " b\"At first sight, Who's Singing Over There just seems to be an absurd and excellent comedy\\xc2\\x85 with only a kind of unusual, quiet and slow motion : what a mistake ! <br /><br />Beginning with two singers on a desert landscape, then a bus and a wonderful bunch of actors, it hides a gem !<br /><br />The folded story, and a false rhythm induces you to think, yes it is comic, but just lets you guess it will be a gentle kind of movie. <br /><br />Not at all : very funny by instant, dark subtle cynical on others, its development surprises you all along the story\\xc2\\x85 Very ingeniously and cleverly presented, all the characters are important, and the actors give them full life.<br /><br />And what is astonishing, it's based on deep observation, great mastering of the camera work and has a great meanings, and really everything, the general direction and how also the details are presented, that it simply makes you forget it's a movie: it is like to watch a kind human society, you yet don't know,shot by a friend behind a camera.<br /><br />And you're the one behind him. It is simple, and simply exceptional !<br /><br />Don't misunderstand me; in no way that would means the script , the quality of picture, the music score have a kind of amateurish way, no, no ! It's great Art ! <br /><br />Because it flows like a river\\xc2\\x85 From high up in the mountain, down to the sea, with all the different sort of grounds and peregrinations that a real river will face on its journey to the sea\\xc2\\x85 from a tiny thing to a main stream.<br /><br />This metaphoric image I used is the very best way I can find to explain all the charm that has Who's Singing Over There. For me, again, I take the hammer : simply exceptional...<br /><br />I've seen that The Director is the one who made Chat Blanc/Chat Noir, which I know is quiet famous\\xc2\\x85 But as I yet didn't see it, I had no idea about this gentleman.<br /><br />Others reviewers wrote dithyrambical comments on that film, I fully agree !<br /><br />European Eastern Cinema is not well know because seldom translated, but I am lucky to have this exemplar one in original language, with good English subtitles. All in all : deep, delicious and exceptional...<br /><br />For fast and empty exploding types and special effect buffs, avoid it at any cost, it may be too subtle and good for you !<br /><br />But if you're interested in different genres and/or classics, I guess you won't regret this one, and in case of buying, it will have good companionship in your personal DVD library, with such no less than merited big names like Billy Wilder, Lubitsch, or Sacha Guitry among some of my preferred directors . At least for this movie !<br /><br />***A film is never really good unless the camera is an eyes in the head of a poet Orson Welles***\"]\n",
      "\n",
      "labels:  [1 1 1]\n"
     ]
    }
   ],
   "source": [
    "for example, label in train_dataset.take(1):\n",
    "  print('texts: ', example.numpy()[:3])\n",
    "  print()\n",
    "  print('labels: ', label.numpy()[:3])"
   ]
  },
  {
   "cell_type": "markdown",
   "metadata": {
    "id": "s5eWCo88voPY"
   },
   "source": [
    "## Create the text encoder"
   ]
  },
  {
   "cell_type": "markdown",
   "metadata": {
    "id": "TFevcItw15P_"
   },
   "source": [
    "The raw text loaded by `tfds` needs to be processed before it can be used in a model. The simplest way to process text for training is using the `experimental.preprocessing.TextVectorization` layer. This layer has many capabilities, but this tutorial sticks to the default behavior.\n",
    "\n",
    "Create the layer, and pass the dataset's text to the layer's `.adapt` method:"
   ]
  },
  {
   "cell_type": "code",
   "execution_count": 9,
   "metadata": {
    "execution": {
     "iopub.execute_input": "2021-04-02T02:09:37.631574Z",
     "iopub.status.busy": "2021-04-02T02:09:37.630888Z",
     "iopub.status.idle": "2021-04-02T02:09:42.309624Z",
     "shell.execute_reply": "2021-04-02T02:09:42.309004Z"
    },
    "id": "uC25Lu1Yvuqy",
    "pycharm": {
     "is_executing": true
    }
   },
   "outputs": [],
   "source": [
    "VOCAB_SIZE = 1000\n",
    "encoder = tf.keras.layers.experimental.preprocessing.TextVectorization(\n",
    "    max_tokens=VOCAB_SIZE)\n",
    "encoder.adapt(train_dataset.map(lambda text, label: text))"
   ]
  },
  {
   "cell_type": "markdown",
   "metadata": {
    "id": "IuQzVBbe3Ldu"
   },
   "source": [
    "The `.adapt` method sets the layer's vocabulary. Here are the first 20 tokens. After the padding and unknown tokens they're sorted by frequency: "
   ]
  },
  {
   "cell_type": "code",
   "execution_count": 10,
   "metadata": {
    "execution": {
     "iopub.execute_input": "2021-04-02T02:09:42.314885Z",
     "iopub.status.busy": "2021-04-02T02:09:42.314191Z",
     "iopub.status.idle": "2021-04-02T02:09:42.319494Z",
     "shell.execute_reply": "2021-04-02T02:09:42.319011Z"
    },
    "id": "tBoyjjWg0Ac9",
    "pycharm": {
     "is_executing": true
    }
   },
   "outputs": [
    {
     "data": {
      "text/plain": [
       "array(['', '[UNK]', 'the', 'and', 'a', 'of', 'to', 'is', 'in', 'it', 'i',\n",
       "       'this', 'that', 'br', 'was', 'as', 'for', 'with', 'movie', 'but'],\n",
       "      dtype='<U14')"
      ]
     },
     "execution_count": 10,
     "metadata": {},
     "output_type": "execute_result"
    }
   ],
   "source": [
    "vocab = np.array(encoder.get_vocabulary())\n",
    "vocab[:20]"
   ]
  },
  {
   "cell_type": "markdown",
   "metadata": {
    "id": "mjId5pua3jHQ"
   },
   "source": [
    "Once the vocabulary is set, the layer can encode text into indices. The tensors of indices are 0-padded to the longest sequence in the batch (unless you set a fixed `output_sequence_length`):"
   ]
  },
  {
   "cell_type": "code",
   "execution_count": 11,
   "metadata": {
    "execution": {
     "iopub.execute_input": "2021-04-02T02:09:42.324048Z",
     "iopub.status.busy": "2021-04-02T02:09:42.323370Z",
     "iopub.status.idle": "2021-04-02T02:09:42.338515Z",
     "shell.execute_reply": "2021-04-02T02:09:42.338977Z"
    },
    "id": "RGc7C9WiwRWs",
    "pycharm": {
     "is_executing": true
    }
   },
   "outputs": [
    {
     "data": {
      "text/plain": [
       "array([[ 10,   1, 492, ...,   0,   0,   0],\n",
       "       [  1, 261,   1, ...,   0,   0,   0],\n",
       "       [ 31,  86,   1, ...,   0,   0,   0]])"
      ]
     },
     "execution_count": 11,
     "metadata": {},
     "output_type": "execute_result"
    }
   ],
   "source": [
    "encoded_example = encoder(example)[:3].numpy()\n",
    "encoded_example"
   ]
  },
  {
   "cell_type": "markdown",
   "metadata": {
    "id": "F5cjz0bS39IN"
   },
   "source": [
    "With the default settings, the process is not completely reversible. There are three main reasons for that:\n",
    "\n",
    "1. The default value for `preprocessing.TextVectorization`'s `standardize` argument is `\"lower_and_strip_punctuation\"`.\n",
    "2. The limited vocabulary size and lack of character-based fallback results in some unknown tokens."
   ]
  },
  {
   "cell_type": "code",
   "execution_count": 12,
   "metadata": {
    "execution": {
     "iopub.execute_input": "2021-04-02T02:09:42.343816Z",
     "iopub.status.busy": "2021-04-02T02:09:42.343136Z",
     "iopub.status.idle": "2021-04-02T02:09:42.349183Z",
     "shell.execute_reply": "2021-04-02T02:09:42.348646Z"
    },
    "id": "N_tD0QY5wXaK",
    "pycharm": {
     "is_executing": true
    }
   },
   "outputs": [
    {
     "name": "stdout",
     "output_type": "stream",
     "text": [
      "Original:  b'I thoroughly enjoyed this movie, but it is nothing new.<br /><br />Everyone here is grouping it with other war movies, this movie has been miscategorized! Its not a war movie any more than \"One flew over the cuckoos nest\" is a asylum movie or \"Cool Hand Luke\" is a prison movie. This is a movie about individuality, nonconformity, self-confidence and the costs of that personality type.<br /><br />The plot is the same as \"One flew over the Cuckoos nest\" and \"Cool Hand Luke\", its in GOOD company, and it holds its own. Its these movies it should be held up against and compared, not \"Apocalypse Now\" or \"Platoon\".<br /><br />Eric'\n",
      "Round-trip:  i [UNK] enjoyed this movie but it is nothing [UNK] br everyone here is [UNK] it with other war movies this movie has been [UNK] its not a war movie any more than one [UNK] over the [UNK] [UNK] is a [UNK] movie or cool hand [UNK] is a [UNK] movie this is a movie about [UNK] [UNK] [UNK] and the [UNK] of that [UNK] [UNK] br the plot is the same as one [UNK] over the [UNK] [UNK] and cool hand [UNK] its in good [UNK] and it [UNK] its own its these movies it should be [UNK] up against and [UNK] not [UNK] now or [UNK] br [UNK]                                                                                                                                                                                                                                                                                                                                                                                                                                                                                                                                                                                                                                                                                                                                                                                                                                                                                                                     \n",
      "\n",
      "Original:  b\"Darius Goes West is a film depicting American belief that everything is possible if you try hard enough. This wonderful fun filled and sometimes heartbreaking film shows a young man who never expected, but longed to see, what was outside the confines of his lovely city of Athens, GA. Darius wished to see the ocean. His longtime friends Logan, Ben and several other good friends decided to make Darius' wish come true. They started small - Ben & Logan's mom started an email campaign to bring awareness to Darius' condition: Duchenne Muscular Dystrophy and to raise funds for the fellas to take Darius to not only see the ocean but to see these great United States. To say the young college buddies succeeded in bringing hope and awareness to this dreaded disease would be an understatement. They realized Darius' dream and then some. They put their lives on hold while showing love, care and tons of fun to Darius while helping Darius see how he can in turn show those same traits to others suffering from DMD. Darius went on to volunteer for the Red Cross - sitting in his chair collecting money (along with his buddies) outside a local grocery store. His wonderful smile tells the world that dreams do come true - all you need is hope and a group of college friends to support and care for you. Give Darius and all the guys an Oscar - no one else deserves it more. Martha Sweeney.\"\n",
      "Round-trip:  [UNK] goes [UNK] is a film [UNK] american [UNK] that everything is possible if you try hard enough this wonderful fun [UNK] and sometimes [UNK] film shows a young man who never expected but [UNK] to see what was outside the [UNK] of his [UNK] city of [UNK] [UNK] [UNK] [UNK] to see the [UNK] his [UNK] friends [UNK] [UNK] and several other good friends decided to make [UNK] wish come true they started small [UNK] [UNK] [UNK] started an [UNK] [UNK] to bring [UNK] to [UNK] [UNK] [UNK] [UNK] [UNK] and to [UNK] [UNK] for the [UNK] to take [UNK] to not only see the [UNK] but to see these great [UNK] [UNK] to say the young [UNK] [UNK] [UNK] in [UNK] hope and [UNK] to this [UNK] [UNK] would be an [UNK] they [UNK] [UNK] dream and then some they put their lives on [UNK] while showing love care and [UNK] of fun to [UNK] while [UNK] [UNK] see how he can in turn show those same [UNK] to others [UNK] from [UNK] [UNK] went on to [UNK] for the red [UNK] [UNK] in his [UNK] [UNK] money along with his [UNK] outside a local [UNK] [UNK] his wonderful [UNK] tells the world that [UNK] do come true all you need is hope and a group of [UNK] friends to [UNK] and care for you give [UNK] and all the guys an oscar no one else deserves it more [UNK] [UNK]                                                                                                                                                                                                                                                                                                                                                                                                                                                                                                                                                                                                                                                                                                                                                                                \n",
      "\n",
      "Original:  b\"At first sight, Who's Singing Over There just seems to be an absurd and excellent comedy\\xc2\\x85 with only a kind of unusual, quiet and slow motion : what a mistake ! <br /><br />Beginning with two singers on a desert landscape, then a bus and a wonderful bunch of actors, it hides a gem !<br /><br />The folded story, and a false rhythm induces you to think, yes it is comic, but just lets you guess it will be a gentle kind of movie. <br /><br />Not at all : very funny by instant, dark subtle cynical on others, its development surprises you all along the story\\xc2\\x85 Very ingeniously and cleverly presented, all the characters are important, and the actors give them full life.<br /><br />And what is astonishing, it's based on deep observation, great mastering of the camera work and has a great meanings, and really everything, the general direction and how also the details are presented, that it simply makes you forget it's a movie: it is like to watch a kind human society, you yet don't know,shot by a friend behind a camera.<br /><br />And you're the one behind him. It is simple, and simply exceptional !<br /><br />Don't misunderstand me; in no way that would means the script , the quality of picture, the music score have a kind of amateurish way, no, no ! It's great Art ! <br /><br />Because it flows like a river\\xc2\\x85 From high up in the mountain, down to the sea, with all the different sort of grounds and peregrinations that a real river will face on its journey to the sea\\xc2\\x85 from a tiny thing to a main stream.<br /><br />This metaphoric image I used is the very best way I can find to explain all the charm that has Who's Singing Over There. For me, again, I take the hammer : simply exceptional...<br /><br />I've seen that The Director is the one who made Chat Blanc/Chat Noir, which I know is quiet famous\\xc2\\x85 But as I yet didn't see it, I had no idea about this gentleman.<br /><br />Others reviewers wrote dithyrambical comments on that film, I fully agree !<br /><br />European Eastern Cinema is not well know because seldom translated, but I am lucky to have this exemplar one in original language, with good English subtitles. All in all : deep, delicious and exceptional...<br /><br />For fast and empty exploding types and special effect buffs, avoid it at any cost, it may be too subtle and good for you !<br /><br />But if you're interested in different genres and/or classics, I guess you won't regret this one, and in case of buying, it will have good companionship in your personal DVD library, with such no less than merited big names like Billy Wilder, Lubitsch, or Sacha Guitry among some of my preferred directors . At least for this movie !<br /><br />***A film is never really good unless the camera is an eyes in the head of a poet Orson Welles***\"\n",
      "Round-trip:  at first [UNK] whos [UNK] over there just seems to be an [UNK] and excellent [UNK] with only a kind of [UNK] [UNK] and slow [UNK] what a [UNK] br br beginning with two [UNK] on a [UNK] [UNK] then a [UNK] and a wonderful bunch of actors it [UNK] a [UNK] br br the [UNK] story and a [UNK] [UNK] [UNK] you to think yes it is comic but just lets you guess it will be a [UNK] kind of movie br br not at all very funny by [UNK] dark [UNK] [UNK] on others its development [UNK] you all along the [UNK] very [UNK] and [UNK] [UNK] all the characters are important and the actors give them full [UNK] br and what is [UNK] its based on deep [UNK] great [UNK] of the camera work and has a great [UNK] and really everything the general direction and how also the [UNK] are [UNK] that it simply makes you forget its a movie it is like to watch a kind human society you yet dont [UNK] by a friend behind a [UNK] br and youre the one behind him it is simple and simply [UNK] br br dont [UNK] me in no way that would means the script the quality of picture the music score have a kind of [UNK] way no no its great art br br because it [UNK] like a [UNK] from high up in the [UNK] down to the [UNK] with all the different sort of [UNK] and [UNK] that a real [UNK] will face on its [UNK] to the [UNK] from a [UNK] thing to a main [UNK] br this [UNK] [UNK] i used is the very best way i can find to [UNK] all the [UNK] that has whos [UNK] over there for me again i take the [UNK] simply [UNK] br ive seen that the director is the one who made [UNK] [UNK] [UNK] which i know is [UNK] [UNK] but as i yet didnt see it i had no idea about this [UNK] br others [UNK] [UNK] [UNK] comments on that film i [UNK] [UNK] br br [UNK] [UNK] cinema is not well know because [UNK] [UNK] but i am [UNK] to have this [UNK] one in original [UNK] with good english [UNK] all in all deep [UNK] and [UNK] br for fast and [UNK] [UNK] [UNK] and special effect [UNK] avoid it at any [UNK] it may be too [UNK] and good for you br br but if youre interested in different [UNK] [UNK] [UNK] i guess you wont [UNK] this one and in case of [UNK] it will have good [UNK] in your personal dvd [UNK] with such no less than [UNK] big [UNK] like [UNK] [UNK] [UNK] or [UNK] [UNK] among some of my [UNK] directors at least for this movie br br a film is never really good unless the camera is an eyes in the head of a [UNK] [UNK] [UNK]                                                                                                                                                                                                                                                                                                                                                                                                                                                                                                                    \n",
      "\n"
     ]
    }
   ],
   "source": [
    "for n in range(3):\n",
    "  print(\"Original: \", example[n].numpy())\n",
    "  print(\"Round-trip: \", \" \".join(vocab[encoded_example[n]]))\n",
    "  print()"
   ]
  },
  {
   "cell_type": "markdown",
   "metadata": {
    "id": "bjUqGVBxGw-t"
   },
   "source": [
    "## Create the model"
   ]
  },
  {
   "cell_type": "markdown",
   "metadata": {
    "id": "W7zsmInBOCPO"
   },
   "source": [
    "![A drawing of the information flow in the model](images/bidirectional.png)"
   ]
  },
  {
   "cell_type": "markdown",
   "metadata": {
    "id": "bgs6nnSTGw-t"
   },
   "source": [
    "Above is a diagram of the model. \n",
    "\n",
    "1. This model can be build as a `tf.keras.Sequential`.\n",
    "\n",
    "2. The first layer is the `encoder`, which converts the text to a sequence of token indices.\n",
    "\n",
    "3. After the encoder is an embedding layer. An embedding layer stores one vector per word. When called, it converts the sequences of word indices to sequences of vectors. These vectors are trainable. After training (on enough data), words with similar meanings often have similar vectors.\n",
    "\n",
    "  This index-lookup is much more efficient than the equivalent operation of passing a one-hot encoded vector through a `tf.keras.layers.Dense` layer.\n",
    "\n",
    "4. A recurrent neural network (RNN) processes sequence input by iterating through the elements. RNNs pass the outputs from one timestep to their input on the next timestep.\n",
    "\n",
    "  The `tf.keras.layers.Bidirectional` wrapper can also be used with an RNN layer. This propagates the input forward and backwards through the RNN layer and then concatenates the final output. \n",
    "\n",
    "  * The main advantage of a bidirectional RNN is that the signal from the beginning of the input doesn't need to be processed all the way through every timestep to affect the output.  \n",
    "\n",
    "  * The main disadvantage of a bidirectional RNN is that you can't efficiently stream predictions as words are being added to the end.\n",
    "\n",
    "5. After the RNN has converted the sequence to a single vector the two `layers.Dense` do some final processing, and convert from this vector representation to a single logit as the classification output. \n"
   ]
  },
  {
   "cell_type": "markdown",
   "metadata": {
    "id": "V4fodCI7soQi"
   },
   "source": [
    "The code to implement this is below:"
   ]
  },
  {
   "cell_type": "code",
   "execution_count": 13,
   "metadata": {
    "execution": {
     "iopub.execute_input": "2021-04-02T02:09:42.355201Z",
     "iopub.status.busy": "2021-04-02T02:09:42.354514Z",
     "iopub.status.idle": "2021-04-02T02:09:42.395664Z",
     "shell.execute_reply": "2021-04-02T02:09:42.396129Z"
    },
    "id": "LwfoBkmRYcP3",
    "pycharm": {
     "is_executing": true
    }
   },
   "outputs": [],
   "source": [
    "model = tf.keras.Sequential([\n",
    "    encoder,\n",
    "    tf.keras.layers.Embedding(\n",
    "        input_dim=len(encoder.get_vocabulary()),\n",
    "        output_dim=64,\n",
    "        # Use masking to handle the variable sequence lengths\n",
    "        mask_zero=True),\n",
    "    tf.keras.layers.Bidirectional(tf.keras.layers.LSTM(64)),\n",
    "    tf.keras.layers.Dense(64, activation='relu'),\n",
    "    tf.keras.layers.Dense(1)\n",
    "])"
   ]
  },
  {
   "cell_type": "markdown",
   "metadata": {
    "id": "QIGmIGkkouUb"
   },
   "source": [
    "Please note that Keras sequential model is used here since all the layers in the model only have single input and produce single output. In case you want to use stateful RNN layer, you might want to build your model with Keras functional API or model subclassing so that you can retrieve and reuse the RNN layer states. Please check [Keras RNN guide](https://www.tensorflow.org/guide/keras/rnn#rnn_state_reuse) for more details."
   ]
  },
  {
   "cell_type": "markdown",
   "metadata": {
    "id": "kF-PsCk1LwjY"
   },
   "source": [
    "The embedding layer [uses masking](https://www.tensorflow.org/guide/keras/masking_and_padding) to handle the varying sequence-lengths. All the layers after the `Embedding` support masking:"
   ]
  },
  {
   "cell_type": "code",
   "execution_count": 14,
   "metadata": {
    "execution": {
     "iopub.execute_input": "2021-04-02T02:09:42.401415Z",
     "iopub.status.busy": "2021-04-02T02:09:42.400718Z",
     "iopub.status.idle": "2021-04-02T02:09:42.402987Z",
     "shell.execute_reply": "2021-04-02T02:09:42.403427Z"
    },
    "id": "87a8-CwfKebw",
    "pycharm": {
     "is_executing": true
    }
   },
   "outputs": [
    {
     "name": "stdout",
     "output_type": "stream",
     "text": [
      "[False, True, True, True, True]\n"
     ]
    }
   ],
   "source": [
    "print([layer.supports_masking for layer in model.layers])"
   ]
  },
  {
   "cell_type": "markdown",
   "metadata": {
    "id": "ZlS0iaUIWLpI"
   },
   "source": [
    "To confirm that this works as expected, evaluate a sentence twice. First, alone so there's no padding to mask:"
   ]
  },
  {
   "cell_type": "code",
   "execution_count": 15,
   "metadata": {
    "execution": {
     "iopub.execute_input": "2021-04-02T02:09:42.409030Z",
     "iopub.status.busy": "2021-04-02T02:09:42.408347Z",
     "iopub.status.idle": "2021-04-02T02:09:49.830035Z",
     "shell.execute_reply": "2021-04-02T02:09:49.829468Z"
    },
    "id": "O41gw3KfWHus",
    "pycharm": {
     "is_executing": true
    }
   },
   "outputs": [
    {
     "name": "stdout",
     "output_type": "stream",
     "text": [
      "[-0.00472184]\n"
     ]
    }
   ],
   "source": [
    "# predict on a sample text without padding.\n",
    "\n",
    "sample_text = ('The movie was cool. The animation and the graphics '\n",
    "               'were out of this world. I would recommend this movie.')\n",
    "predictions = model.predict(np.array([sample_text]))\n",
    "print(predictions[0])"
   ]
  },
  {
   "cell_type": "markdown",
   "metadata": {
    "id": "K0VQmGnEWcuz"
   },
   "source": [
    "Now, evaluate it again in a batch with a longer sentence. The result should be identical:"
   ]
  },
  {
   "cell_type": "code",
   "execution_count": 16,
   "metadata": {
    "execution": {
     "iopub.execute_input": "2021-04-02T02:09:49.836464Z",
     "iopub.status.busy": "2021-04-02T02:09:49.835731Z",
     "iopub.status.idle": "2021-04-02T02:09:50.008313Z",
     "shell.execute_reply": "2021-04-02T02:09:50.008773Z"
    },
    "id": "UIgpuTeFNDzq",
    "pycharm": {
     "is_executing": true
    }
   },
   "outputs": [
    {
     "name": "stdout",
     "output_type": "stream",
     "text": [
      "[-0.00472184]\n"
     ]
    }
   ],
   "source": [
    "# predict on a sample text with padding\n",
    "\n",
    "padding = \"the \" * 2000\n",
    "predictions = model.predict(np.array([sample_text, padding]))\n",
    "print(predictions[0])"
   ]
  },
  {
   "cell_type": "markdown",
   "metadata": {
    "id": "sRI776ZcH3Tf"
   },
   "source": [
    "Compile the Keras model to configure the training process:"
   ]
  },
  {
   "cell_type": "code",
   "execution_count": 17,
   "metadata": {
    "execution": {
     "iopub.execute_input": "2021-04-02T02:09:50.025090Z",
     "iopub.status.busy": "2021-04-02T02:09:50.024309Z",
     "iopub.status.idle": "2021-04-02T02:09:50.037046Z",
     "shell.execute_reply": "2021-04-02T02:09:50.037452Z"
    },
    "id": "kj2xei41YZjC",
    "pycharm": {
     "is_executing": true
    }
   },
   "outputs": [],
   "source": [
    "model.compile(loss=tf.keras.losses.BinaryCrossentropy(from_logits=True),\n",
    "              optimizer=tf.keras.optimizers.Adam(1e-4),\n",
    "              metrics=['accuracy'])"
   ]
  },
  {
   "cell_type": "markdown",
   "metadata": {
    "id": "zIwH3nto596k"
   },
   "source": [
    "## Train the model"
   ]
  },
  {
   "cell_type": "code",
   "execution_count": null,
   "metadata": {
    "execution": {
     "iopub.execute_input": "2021-04-02T02:09:50.042548Z",
     "iopub.status.busy": "2021-04-02T02:09:50.041835Z",
     "iopub.status.idle": "2021-04-02T02:15:49.160067Z",
     "shell.execute_reply": "2021-04-02T02:15:49.160483Z"
    },
    "id": "hw86wWS4YgR2",
    "pycharm": {
     "is_executing": true
    }
   },
   "outputs": [
    {
     "name": "stdout",
     "output_type": "stream",
     "text": [
      "Epoch 1/10\n",
      "391/391 [==============================] - 236s 586ms/step - loss: 0.6233 - accuracy: 0.5922 - val_loss: 0.4509 - val_accuracy: 0.7740\n",
      "Epoch 2/10\n",
      "270/391 [===================>..........] - ETA: 1:11 - loss: 0.4039 - accuracy: 0.8153"
     ]
    }
   ],
   "source": [
    "history = model.fit(train_dataset, epochs=10,\n",
    "                    validation_data=test_dataset,\n",
    "                    validation_steps=30)"
   ]
  },
  {
   "cell_type": "code",
   "execution_count": null,
   "metadata": {
    "execution": {
     "iopub.execute_input": "2021-04-02T02:15:49.165492Z",
     "iopub.status.busy": "2021-04-02T02:15:49.164837Z",
     "iopub.status.idle": "2021-04-02T02:16:05.725623Z",
     "shell.execute_reply": "2021-04-02T02:16:05.726116Z"
    },
    "id": "BaNbXi43YgUT",
    "pycharm": {
     "is_executing": true
    }
   },
   "outputs": [],
   "source": [
    "test_loss, test_acc = model.evaluate(test_dataset)\n",
    "\n",
    "print('Test Loss:', test_loss)\n",
    "print('Test Accuracy:', test_acc)"
   ]
  },
  {
   "cell_type": "code",
   "execution_count": null,
   "metadata": {
    "execution": {
     "iopub.execute_input": "2021-04-02T02:16:05.748661Z",
     "iopub.status.busy": "2021-04-02T02:16:05.733404Z",
     "iopub.status.idle": "2021-04-02T02:16:06.021648Z",
     "shell.execute_reply": "2021-04-02T02:16:06.022109Z"
    },
    "id": "OZmwt_mzaQJk",
    "pycharm": {
     "is_executing": true
    }
   },
   "outputs": [],
   "source": [
    "plt.figure(figsize=(16, 8))\n",
    "plt.subplot(1, 2, 1)\n",
    "plot_graphs(history, 'accuracy')\n",
    "plt.ylim(None, 1)\n",
    "plt.subplot(1, 2, 2)\n",
    "plot_graphs(history, 'loss')\n",
    "plt.ylim(0, None)"
   ]
  },
  {
   "cell_type": "markdown",
   "metadata": {
    "id": "DwSE_386uhxD"
   },
   "source": [
    "Run a prediction on a new sentence:\n",
    "\n",
    "If the prediction is >= 0.0, it is positive else it is negative."
   ]
  },
  {
   "cell_type": "code",
   "execution_count": null,
   "metadata": {
    "execution": {
     "iopub.execute_input": "2021-04-02T02:16:06.026733Z",
     "iopub.status.busy": "2021-04-02T02:16:06.026090Z",
     "iopub.status.idle": "2021-04-02T02:16:07.969281Z",
     "shell.execute_reply": "2021-04-02T02:16:07.968592Z"
    },
    "id": "ZXgfQSgRW6zU",
    "pycharm": {
     "is_executing": true
    }
   },
   "outputs": [],
   "source": [
    "sample_text = ('The movie was cool. The animation and the graphics '\n",
    "               'were out of this world. I would recommend this movie.')\n",
    "predictions = model.predict(np.array([sample_text]))"
   ]
  },
  {
   "cell_type": "markdown",
   "metadata": {
    "id": "7g1evcaRpTKm"
   },
   "source": [
    "## Stack two or more LSTM layers\n",
    "\n",
    "Keras recurrent layers have two available modes that are controlled by the `return_sequences` constructor argument:\n",
    "\n",
    "* If `False` it returns only the last output for each input sequence (a 2D tensor of shape (batch_size, output_features)). This is the default, used in the previous model.\n",
    "\n",
    "* If `True` the full sequences of successive outputs for each timestep is returned (a 3D tensor of shape `(batch_size, timesteps, output_features)`).\n",
    "\n",
    "Here is what the flow of information looks like with `return_sequences=True`:\n",
    "\n",
    "![layered_bidirectional](images/layered_bidirectional.png)"
   ]
  },
  {
   "cell_type": "markdown",
   "metadata": {
    "id": "wbSClCrG1z8l"
   },
   "source": [
    "The interesting thing about using an `RNN` with `return_sequences=True` is that the output still has 3-axes, like the input, so it can be passed to another RNN layer, like this:"
   ]
  },
  {
   "cell_type": "code",
   "execution_count": null,
   "metadata": {
    "execution": {
     "iopub.execute_input": "2021-04-02T02:16:07.977375Z",
     "iopub.status.busy": "2021-04-02T02:16:07.976671Z",
     "iopub.status.idle": "2021-04-02T02:16:08.010571Z",
     "shell.execute_reply": "2021-04-02T02:16:08.010009Z"
    },
    "id": "jo1jjO3vn0jo",
    "pycharm": {
     "is_executing": true
    }
   },
   "outputs": [],
   "source": [
    "model = tf.keras.Sequential([\n",
    "    encoder,\n",
    "    tf.keras.layers.Embedding(len(encoder.get_vocabulary()), 64, mask_zero=True),\n",
    "    tf.keras.layers.Bidirectional(tf.keras.layers.LSTM(64,  return_sequences=True)),\n",
    "    tf.keras.layers.Bidirectional(tf.keras.layers.LSTM(32)),\n",
    "    tf.keras.layers.Dense(64, activation='relu'),\n",
    "    tf.keras.layers.Dropout(0.5),\n",
    "    tf.keras.layers.Dense(1)\n",
    "])"
   ]
  },
  {
   "cell_type": "code",
   "execution_count": null,
   "metadata": {
    "execution": {
     "iopub.execute_input": "2021-04-02T02:16:08.020237Z",
     "iopub.status.busy": "2021-04-02T02:16:08.019590Z",
     "iopub.status.idle": "2021-04-02T02:16:08.023761Z",
     "shell.execute_reply": "2021-04-02T02:16:08.023268Z"
    },
    "id": "hEPV5jVGp-is",
    "pycharm": {
     "is_executing": true
    }
   },
   "outputs": [],
   "source": [
    "model.compile(loss=tf.keras.losses.BinaryCrossentropy(from_logits=True),\n",
    "              optimizer=tf.keras.optimizers.Adam(1e-4),\n",
    "              metrics=['accuracy'])"
   ]
  },
  {
   "cell_type": "code",
   "execution_count": null,
   "metadata": {
    "execution": {
     "iopub.execute_input": "2021-04-02T02:16:08.028061Z",
     "iopub.status.busy": "2021-04-02T02:16:08.027398Z",
     "iopub.status.idle": "2021-04-02T02:26:14.849595Z",
     "shell.execute_reply": "2021-04-02T02:26:14.850059Z"
    },
    "id": "LeSE-YjdqAeN",
    "pycharm": {
     "is_executing": true
    }
   },
   "outputs": [],
   "source": [
    "history = model.fit(train_dataset, epochs=10,\n",
    "                    validation_data=test_dataset,\n",
    "                    validation_steps=30)"
   ]
  },
  {
   "cell_type": "code",
   "execution_count": null,
   "metadata": {
    "execution": {
     "iopub.execute_input": "2021-04-02T02:26:14.855139Z",
     "iopub.status.busy": "2021-04-02T02:26:14.854502Z",
     "iopub.status.idle": "2021-04-02T02:26:41.313254Z",
     "shell.execute_reply": "2021-04-02T02:26:41.313739Z"
    },
    "id": "_LdwilM1qPM3",
    "pycharm": {
     "is_executing": true
    }
   },
   "outputs": [],
   "source": [
    "test_loss, test_acc = model.evaluate(test_dataset)\n",
    "\n",
    "print('Test Loss:', test_loss)\n",
    "print('Test Accuracy:', test_acc)"
   ]
  },
  {
   "cell_type": "code",
   "execution_count": null,
   "metadata": {
    "execution": {
     "iopub.execute_input": "2021-04-02T02:26:41.318315Z",
     "iopub.status.busy": "2021-04-02T02:26:41.317631Z",
     "iopub.status.idle": "2021-04-02T02:26:45.083609Z",
     "shell.execute_reply": "2021-04-02T02:26:45.083031Z"
    },
    "id": "ykUKnAoqbycW",
    "pycharm": {
     "is_executing": true
    }
   },
   "outputs": [],
   "source": [
    "# predict on a sample text without padding.\n",
    "\n",
    "sample_text = ('The movie was not good. The animation and the graphics '\n",
    "               'were terrible. I would not recommend this movie.')\n",
    "predictions = model.predict(np.array([sample_text]))\n",
    "print(predictions)"
   ]
  },
  {
   "cell_type": "code",
   "execution_count": null,
   "metadata": {
    "execution": {
     "iopub.execute_input": "2021-04-02T02:26:45.102461Z",
     "iopub.status.busy": "2021-04-02T02:26:45.100958Z",
     "iopub.status.idle": "2021-04-02T02:26:45.354347Z",
     "shell.execute_reply": "2021-04-02T02:26:45.354795Z"
    },
    "id": "_YYub0EDtwCu",
    "pycharm": {
     "is_executing": true
    }
   },
   "outputs": [],
   "source": [
    "plt.figure(figsize=(16, 6))\n",
    "plt.subplot(1, 2, 1)\n",
    "plot_graphs(history, 'accuracy')\n",
    "plt.subplot(1, 2, 2)\n",
    "plot_graphs(history, 'loss')"
   ]
  },
  {
   "cell_type": "markdown",
   "metadata": {
    "id": "9xvpE3BaGw_V"
   },
   "source": [
    "Check out other existing recurrent layers such as [GRU layers](https://www.tensorflow.org/api_docs/python/tf/keras/layers/GRU).\n",
    "\n",
    "If you're interestied in building custom RNNs, see the [Keras RNN Guide](https://www.tensorflow.org/guide/keras/rnn).\n"
   ]
  }
 ],
 "metadata": {
  "accelerator": "GPU",
  "colab": {
   "collapsed_sections": [],
   "name": "text_classification_rnn.ipynb",
   "toc_visible": true
  },
  "kernelspec": {
   "display_name": "Python 3",
   "language": "python",
   "name": "python3"
  },
  "language_info": {
   "codemirror_mode": {
    "name": "ipython",
    "version": 3
   },
   "file_extension": ".py",
   "mimetype": "text/x-python",
   "name": "python",
   "nbconvert_exporter": "python",
   "pygments_lexer": "ipython3",
   "version": "3.9.4"
  }
 },
 "nbformat": 4,
 "nbformat_minor": 1
}